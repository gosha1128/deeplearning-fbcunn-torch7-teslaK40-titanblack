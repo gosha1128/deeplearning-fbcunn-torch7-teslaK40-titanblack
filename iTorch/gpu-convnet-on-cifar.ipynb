{
 "metadata": {
  "language": "lua",
  "name": "",
  "signature": "sha256:fb2bfeed900cb2659f625e51ffbdd81f05baa8021fac9ae34365f876f6aeb1ee"
 },
 "nbformat": 3,
 "nbformat_minor": 0,
 "worksheets": [
  {
   "cells": [
    {
     "cell_type": "markdown",
     "metadata": {},
     "source": [
      "## Train a ConvNet to recognize objects using the CIFAR dataset"
     ]
    },
    {
     "cell_type": "markdown",
     "metadata": {},
     "source": [
      "In this tutorial, we train a ConvNet from scratch to do object recognition over 10 classes.\n",
      "You would learn how to use Torch's neural network package and optim package to train a network."
     ]
    },
    {
     "cell_type": "code",
     "collapsed": false,
     "input": [
      "-- require the necessary packages\n",
      "require 'torch'\n",
      "require 'cunn' --george\n",
      "require 'fbcunn' --george\n",
      "require 'nn'\n",
      "require 'optim'\n",
      "require 'image'"
     ],
     "language": "python",
     "metadata": {},
     "outputs": [],
     "prompt_number": 1
    },
    {
     "cell_type": "code",
     "collapsed": false,
     "input": [
      "-- manually define the class-names in CIFAR-10 in a lua table\n",
      "classes = {'airplane', 'automobile', 'bird', 'cat',\n",
      "           'deer', 'dog', 'frog', 'horse', 'ship', 'truck'}"
     ],
     "language": "python",
     "metadata": {},
     "outputs": [],
     "prompt_number": 2
    },
    {
     "cell_type": "code",
     "collapsed": false,
     "input": [
      "-- define model to train\n",
      "model = nn.Sequential()\n",
      "-- stage 1 : mean+std normalization -> filter bank -> squashing -> max pooling\n",
      "model:add(nn.SpatialConvolutionMM(3,32,5,5))\n",
      "model:add(nn.ReLU())\n",
      "model:add(nn.SpatialMaxPooling(2, 2, 2, 2))\n",
      "-- stage 2 : filter bank -> squashing -> max pooling\n",
      "model:add(nn.SpatialConvolutionMM(32,32,5,5))\n",
      "model:add(nn.ReLU())\n",
      "model:add(nn.SpatialMaxPooling(2, 2, 2, 2))\n",
      "-- stage 3 : standard 2-layer neural network\n",
      "model:add(nn.View(32*5*5))\n",
      "model:add(nn.Linear(32*5*5, 128))\n",
      "model:add(nn.ReLU())\n",
      "model:add(nn.Linear(128,#classes))\n",
      "model:add(nn.LogSoftMax())\n",
      "\n",
      "model = model:cuda()"
     ],
     "language": "python",
     "metadata": {},
     "outputs": [],
     "prompt_number": 3
    },
    {
     "cell_type": "code",
     "collapsed": false,
     "input": [
      "print(model:__tostring())"
     ],
     "language": "python",
     "metadata": {},
     "outputs": [
      {
       "metadata": {},
       "output_type": "pyout",
       "prompt_number": 4,
       "text": [
        "nn.Sequential {\n",
        "  [input -> (1) -> (2) -> (3) -> (4) -> (5) -> (6) -> (7) -> (8) -> (9) -> (10) -> (11) -> output]\n",
        "  (1): nn.SpatialConvolutionMM\n",
        "  (2): nn.ReLU\n",
        "  (3): nn.SpatialMaxPooling\n",
        "  (4): nn.SpatialConvolutionMM\n",
        "  (5): nn.ReLU\n",
        "  (6): nn.SpatialMaxPooling\n",
        "  (7): nn.View\n",
        "  (8): nn.Linear\n",
        "  (9): nn.ReLU\n",
        "  (10): nn.Linear\n",
        "  (11): nn.LogSoftMax\n",
        "}\t\n"
       ]
      }
     ],
     "prompt_number": 4
    },
    {
     "cell_type": "code",
     "collapsed": false,
     "input": [
      "-- retrieve parameters and gradients. this helps us to use the optim package\n",
      "parameters,gradParameters = model:getParameters()"
     ],
     "language": "python",
     "metadata": {},
     "outputs": [],
     "prompt_number": 5
    },
    {
     "cell_type": "code",
     "collapsed": false,
     "input": [
      "-- loss function: negative log-likelihood\n",
      "criterion = nn.ClassNLLCriterion()\n",
      "\n",
      "criterion = criterion:cuda()\n",
      "print(criterion)"
     ],
     "language": "python",
     "metadata": {},
     "outputs": [
      {
       "metadata": {},
       "output_type": "pyout",
       "prompt_number": 6,
       "text": [
        "nn.ClassNLLCriterion\n",
        "{\n",
        "  sizeAverage : true\n",
        "  outputTensor : CudaTensor - size: 1\n",
        "  gradInput : CudaTensor - empty\n",
        "  output : 0\n",
        "}\n"
       ]
      }
     ],
     "prompt_number": 6
    },
    {
     "cell_type": "code",
     "collapsed": false,
     "input": [
      "os.execute('pwd')"
     ],
     "language": "python",
     "metadata": {},
     "outputs": [
      {
       "metadata": {},
       "output_type": "pyout",
       "prompt_number": 7,
       "text": [
        "/home/gwilliams/Projects/nextml/soumith_nextml/nextml\n",
        "true\texit\t0\t\n"
       ]
      }
     ],
     "prompt_number": 7
    },
    {
     "cell_type": "code",
     "collapsed": false,
     "input": [
      "-- get/create dataset\n",
      "--\n",
      "batchSize = 1 -- sets the mini-Batch size\n",
      "\n",
      "if fullDataset then\n",
      "   trsize = 50000\n",
      "   tesize = 10000\n",
      "else\n",
      "   trsize = 2000\n",
      "   tesize = 1000\n",
      "end\n",
      "\n",
      "-- load dataset\n",
      "trainData = {\n",
      "   data = torch.Tensor(50000, 3072),\n",
      "   labels = torch.Tensor(50000),\n",
      "   size = function() return trsize end\n",
      "}\n",
      "for i = 0,4 do\n",
      "   subset = torch.load('cifar-10-batches-t7/data_batch_' .. (i+1) .. '.t7', 'ascii')\n",
      "   trainData.data[{ {i*10000+1, (i+1)*10000} }] = subset.data:t()\n",
      "   trainData.labels[{ {i*10000+1, (i+1)*10000} }] = subset.labels\n",
      "end\n",
      "trainData.labels = trainData.labels + 1\n",
      "\n",
      "subset = torch.load('cifar-10-batches-t7/test_batch.t7', 'ascii')\n",
      "testData = {\n",
      "   data = subset.data:t():double(),\n",
      "   labels = subset.labels[1]:double(),\n",
      "   size = function() return tesize end\n",
      "}\n",
      "testData.labels = testData.labels + 1\n",
      "\n",
      "-- resize dataset (if not using the full dataset)\n",
      "trainData.data = trainData.data[{ {1,trsize} }]\n",
      "trainData.labels = trainData.labels[{ {1,trsize} }]\n",
      "\n",
      "testData.data = testData.data[{ {1,tesize} }]\n",
      "testData.labels = testData.labels[{ {1,tesize} }]\n",
      "\n",
      "-- reshape data\n",
      "trainData.data = trainData.data:reshape(trsize,3,32,32)\n",
      "testData.data = testData.data:reshape(tesize,3,32,32)\n"
     ],
     "language": "python",
     "metadata": {},
     "outputs": [
      {
       "ename": "cannot open <cifar-10-batches-t7/data_batch_1.t7> in mode r \nstack traceback:\n\t[C]: at 0x7fa954162530\n\t[C]: in function 'DiskFile'\n\t...Torch7/torch-distro/install/share/lua/5.1/torch/File.lua:269: in function 'load'\n\t[string \"-- get/create dataset...\"]:20: in main chunk\n\t[C]: in function 'xpcall'\n\t...orch7/torch-distro/install/share/lua/5.1/itorch/main.lua:194: in function <...orch7/torch-distro/install/share/lua/5.1/itorch/main.lua:160>\n\t...orch7/torch-distro/install/share/lua/5.1/lzmq/poller.lua:75: in function 'poll'\n\t...h7/torch-distro/install/share/lua/5.1/lzmq/impl/loop.lua:307: in function 'poll'\n\t...h7/torch-distro/install/share/lua/5.1/lzmq/impl/loop.lua:325: in function 'sleep_ex'\n\t...h7/torch-distro/install/share/lua/5.1/lzmq/impl/loop.lua:370: in function 'start'\n\t...orch7/torch-distro/install/share/lua/5.1/itorch/main.lua:374: in main chunk\n\t[C]: in function 'require'\n\t(command line):1: in main chunk\n\t[C]: at 0x00406170",
       "evalue": "",
       "output_type": "pyerr",
       "traceback": [
        "cannot open <cifar-10-batches-t7/data_batch_1.t7> in mode r \nstack traceback:\n\t[C]: at 0x7fa954162530\n\t[C]: in function 'DiskFile'\n\t...Torch7/torch-distro/install/share/lua/5.1/torch/File.lua:269: in function 'load'\n\t[string \"-- get/create dataset...\"]:20: in main chunk\n\t[C]: in function 'xpcall'\n\t...orch7/torch-distro/install/share/lua/5.1/itorch/main.lua:194: in function <...orch7/torch-distro/install/share/lua/5.1/itorch/main.lua:160>\n\t...orch7/torch-distro/install/share/lua/5.1/lzmq/poller.lua:75: in function 'poll'\n\t...h7/torch-distro/install/share/lua/5.1/lzmq/impl/loop.lua:307: in function 'poll'\n\t...h7/torch-distro/install/share/lua/5.1/lzmq/impl/loop.lua:325: in function 'sleep_ex'\n\t...h7/torch-distro/install/share/lua/5.1/lzmq/impl/loop.lua:370: in function 'start'\n\t...orch7/torch-distro/install/share/lua/5.1/itorch/main.lua:374: in main chunk\n\t[C]: in function 'require'\n\t(command line):1: in main chunk\n\t[C]: at 0x00406170"
       ]
      }
     ],
     "prompt_number": 8
    },
    {
     "cell_type": "code",
     "collapsed": false,
     "input": [
      "-- preprocess/normalize train/test sets\n",
      "-- preprocess trainSet\n",
      "normalization = nn.SpatialContrastiveNormalization(1, image.gaussian1D(7))\n",
      "for i = 1,trainData:size() do\n",
      "   -- rgb -> yuv\n",
      "   local rgb = trainData.data[i]\n",
      "   local yuv = image.rgb2yuv(rgb)\n",
      "   -- normalize y locally:\n",
      "   yuv[1] = normalization(yuv[{{1}}])\n",
      "   trainData.data[i] = yuv\n",
      "end\n",
      "-- normalize u globally:\n",
      "mean_u = trainData.data[{ {},2,{},{} }]:mean()\n",
      "std_u = trainData.data[{ {},2,{},{} }]:std()\n",
      "trainData.data[{ {},2,{},{} }]:add(-mean_u)\n",
      "trainData.data[{ {},2,{},{} }]:div(-std_u)\n",
      "-- normalize v globally:\n",
      "mean_v = trainData.data[{ {},3,{},{} }]:mean()\n",
      "std_v = trainData.data[{ {},3,{},{} }]:std()\n",
      "trainData.data[{ {},3,{},{} }]:add(-mean_v)\n",
      "trainData.data[{ {},3,{},{} }]:div(-std_v)\n",
      "\n",
      "-- preprocess testSet\n",
      "for i = 1,testData:size() do\n",
      "   -- rgb -> yuv\n",
      "   local rgb = testData.data[i]\n",
      "   local yuv = image.rgb2yuv(rgb)\n",
      "   -- normalize y locally:\n",
      "   yuv[{1}] = normalization(yuv[{{1}}])\n",
      "   testData.data[i] = yuv\n",
      "end\n",
      "-- normalize u globally:\n",
      "testData.data[{ {},2,{},{} }]:add(-mean_u)\n",
      "testData.data[{ {},2,{},{} }]:div(-std_u)\n",
      "-- normalize v globally:\n",
      "testData.data[{ {},3,{},{} }]:add(-mean_v)\n",
      "testData.data[{ {},3,{},{} }]:div(-std_v)\n"
     ],
     "language": "python",
     "metadata": {},
     "outputs": [],
     "prompt_number": 10
    },
    {
     "cell_type": "code",
     "collapsed": false,
     "input": [
      "-- this matrix records the current confusion across classes\n",
      "confusion = optim.ConfusionMatrix(classes)"
     ],
     "language": "python",
     "metadata": {},
     "outputs": [],
     "prompt_number": 11
    },
    {
     "cell_type": "code",
     "collapsed": false,
     "input": [
      "-- define training and testing functions"
     ],
     "language": "python",
     "metadata": {},
     "outputs": [],
     "prompt_number": 12
    },
    {
     "cell_type": "code",
     "collapsed": false,
     "input": [
      "-- training function\n",
      "function train(dataset)\n",
      "   -- epoch tracker\n",
      "   epoch = epoch or 10\n",
      "\n",
      "   -- do one epoch\n",
      "   print('<trainer> on training set:')\n",
      "   print(\"<trainer> online epoch # \" .. epoch .. ' [batchSize = ' .. batchSize .. ']')\n",
      "   for t = 1,dataset:size(),batchSize do\n",
      "\n",
      "      -- create mini batch\n",
      "      local inputs = {}\n",
      "      local targets = {}\n",
      "      for i = t,math.min(t+batchSize-1,dataset:size()) do\n",
      "         -- load new sample\n",
      "         local input = dataset.data[i]\n",
      "         input = input:cuda() -- george\n",
      "         local target = dataset.labels[i]\n",
      "         table.insert(inputs, input)\n",
      "         table.insert(targets, target)\n",
      "      end\n",
      "\n",
      "      -- create closure to evaluate f(X) and df/dX\n",
      "      local feval = function(x)\n",
      "                       -- get new parameters\n",
      "                       if x ~= parameters then\n",
      "                          parameters:copy(x)\n",
      "                       end\n",
      "\n",
      "                       -- reset gradients\n",
      "                       gradParameters:zero()\n",
      "\n",
      "                       -- f is the average of all criterions\n",
      "                       local f = 0\n",
      "\n",
      "                       -- evaluate function for complete mini batch\n",
      "                       for i = 1,#inputs do\n",
      "                          -- estimate f\n",
      "                          local output = model:forward(inputs[i])\n",
      "                          output = output:cuda() --george\n",
      "                          local err = criterion:forward(output, targets[i])\n",
      "                          f = f + err\n",
      "\n",
      "                          -- estimate df/dW\n",
      "                          local df_do = criterion:backward(output, targets[i])\n",
      "                          model:backward(inputs[i], df_do)\n",
      "\n",
      "                          -- update confusion\n",
      "                          confusion:add(output, targets[i])                        \n",
      "                       end\n",
      "\n",
      "                       -- normalize gradients and f(X)\n",
      "                       gradParameters:div(#inputs)\n",
      "                       f = f/#inputs\n",
      "\n",
      "                       -- return f and df/dX\n",
      "                       return f,gradParameters\n",
      "                    end\n",
      "\n",
      "\n",
      "      config = config or {learningRate = 1e-3,\n",
      "              weightDecay = 0,\n",
      "                momentum = 0,\n",
      "              learningRateDecay = 5e-7}\n",
      "      optim.sgd(feval, parameters, config)\n",
      "   end\n",
      "\n",
      "   -- print confusion matrix\n",
      "   print(confusion)\n",
      "   confusion:zero()\n",
      "\n",
      "   -- next epoch\n",
      "   epoch = epoch + 1\n",
      "end\n"
     ],
     "language": "python",
     "metadata": {},
     "outputs": [],
     "prompt_number": 13
    },
    {
     "cell_type": "code",
     "collapsed": false,
     "input": [
      "-- test function\n",
      "function test(dataset)\n",
      "\n",
      "   -- test over given dataset\n",
      "   print('<trainer> on testing Set:')\n",
      "   for t = 1,dataset:size() do\n",
      "      -- get new sample\n",
      "      local input = dataset.data[t]\n",
      "      input = input:cuda() --george\n",
      "      local target = dataset.labels[t]\n",
      "\n",
      "      -- test sample\n",
      "      local pred = model:forward(input)\n",
      "      confusion:add(pred, target)\n",
      "   end\n",
      "\n",
      "   -- print confusion matrix\n",
      "   print(confusion)\n",
      "   confusion:zero()\n",
      "\n",
      "end\n"
     ],
     "language": "python",
     "metadata": {},
     "outputs": [],
     "prompt_number": 17
    },
    {
     "cell_type": "code",
     "collapsed": false,
     "input": [
      "train(trainData)"
     ],
     "language": "python",
     "metadata": {},
     "outputs": [
      {
       "metadata": {},
       "output_type": "pyout",
       "prompt_number": 15,
       "text": [
        "<trainer> on training set:\t\n",
        "<trainer> online epoch # 10 [batchSize = 1]\t\n"
       ]
      },
      {
       "metadata": {},
       "output_type": "pyout",
       "prompt_number": 15,
       "text": [
        "ConfusionMatrix:\n",
        "[[      44      39       3       2       8       1       4       4      60      37]   21.782% \t[class: airplane]\n",
        " [      30      34       5       5       6       0       8       7      32      64]   17.801% \t[class: automobile]\n",
        " [      23      21       8       1      23       0      57      13      18      39]   3.941% \t[class: bird]\n",
        " [       7      38      13       2      11       1      43      19      13      48]   1.026% \t[class: cat]\n",
        " [      10      26      10       2      22       4      62      30      16      32]   10.280% \t[class: deer]\n",
        " [       9      27       8       9      11       1      45      13      22      38]   0.546% \t[class: dog]\n",
        " [       6      21      15       4      27       2      69      19       6      38]   33.333% \t[class: frog]\n",
        " [       3      28       2       1      30       0      38      35      17      45]   17.588% \t[class: horse]\n",
        " [      61      39       2       1       8       0       6       6      50      30]   24.631% \t[class: ship]\n",
        " [      36      36       3       4      11       1      17      10      34      51]]  25.123% \t[class: truck]\n",
        " + average row correct: 15.605154396035% \n",
        " + average rowUcol correct (VOC measure): 7.5280744815245% \n",
        " + global correct: 15.8%\n",
        "{\n",
        "  averageUnionValid : 0.075280744815245\n",
        "  _targ_idx : LongTensor - empty\n",
        "  valids : FloatTensor - size: 10\n",
        "  classes : \n",
        "    {\n",
        "      1 : airplane\n",
        "      2 : automobile\n",
        "      3 : bird\n",
        "      4 : cat\n",
        "      5 : deer\n",
        "      6 : dog\n",
        "      7 : frog\n",
        "      8 : horse\n",
        "      9 : ship\n",
        "      10 : truck\n",
        "    }\n",
        "  _target : FloatTensor - empty\n",
        "  mat : FloatTensor - size: 10x10\n",
        "  _pred_idx : LongTensor - size: 1\n",
        "  _max : FloatTensor - size: 1\n",
        "  unionvalids : FloatTensor - size: 10\n",
        "  nclasses : 10\n",
        "  totalValid : 0.158\n",
        "  _prediction : FloatTensor - size: 10\n",
        "  averageValid : 0.15605154396035\n",
        "}\n",
        "\n"
       ]
      }
     ],
     "prompt_number": 15
    },
    {
     "cell_type": "code",
     "collapsed": false,
     "input": [
      "test(testData)"
     ],
     "language": "python",
     "metadata": {},
     "outputs": [
      {
       "metadata": {},
       "output_type": "pyout",
       "prompt_number": 18,
       "text": [
        "<trainer> on testing Set:\t\n"
       ]
      },
      {
       "metadata": {},
       "output_type": "pyout",
       "prompt_number": 18,
       "text": [
        "ConfusionMatrix:\n",
        "[[       6       0      10       3      10       5       8       0      58       3]   5.825% \t[class: airplane]\n",
        " [       6       0      13       8      10       5       4       1      36       6]   0.000% \t[class: automobile]\n",
        " [       7       0      11       2      33       6      19       2      15       5]   11.000% \t[class: bird]\n",
        " [       3       0      11      11      19      20      25       1      10       3]   10.680% \t[class: cat]\n",
        " [       1       0       7       4      30       4      27       5      10       2]   33.333% \t[class: deer]\n",
        " [       5       0       6      10      19      15      19       3       6       3]   17.442% \t[class: dog]\n",
        " [       1       0       3       7      28       9      60       1       3       0]   53.571% \t[class: frog]\n",
        " [       2       0       3       4      37       7      16      24       8       1]   23.529% \t[class: horse]\n",
        " [      10       0       9       5       8       1       1       2      69       1]   65.094% \t[class: ship]\n",
        " [       5       0       5      16      16       1       8       5      45       8]]  7.339% \t[class: truck]\n",
        " + average row correct: 22.781467624009% \n",
        " + average rowUcol correct (VOC measure): 11.312462687492% \n",
        " + global correct: 23.4%\n",
        "{\n",
        "  averageUnionValid : 0.11312462687492\n",
        "  _targ_idx : LongTensor - empty\n",
        "  valids : FloatTensor - size: 10\n",
        "  classes : \n",
        "    {\n",
        "      1 : airplane\n",
        "      2 : automobile\n",
        "      3 : bird\n",
        "      4 : cat\n",
        "      5 : deer\n",
        "      6 : dog\n",
        "      7 : frog\n",
        "      8 : horse\n",
        "      9 : ship\n",
        "      10 : truck\n",
        "    }\n",
        "  _target : FloatTensor - empty\n",
        "  mat : FloatTensor - size: 10x10\n",
        "  _pred_idx : LongTensor - size: 1\n",
        "  _max : FloatTensor - size: 1\n",
        "  unionvalids : FloatTensor - size: 10\n",
        "  nclasses : 10\n",
        "  totalValid : 0.234\n",
        "  _prediction : FloatTensor - size: 10\n",
        "  averageValid : 0.22781467624009\n",
        "}"
       ]
      },
      {
       "metadata": {},
       "output_type": "pyout",
       "prompt_number": 18,
       "text": [
        "\n",
        "\n"
       ]
      }
     ],
     "prompt_number": 18
    },
    {
     "cell_type": "code",
     "collapsed": false,
     "input": [
      "print 'hello'"
     ],
     "language": "python",
     "metadata": {},
     "outputs": []
    },
    {
     "cell_type": "code",
     "collapsed": false,
     "input": [],
     "language": "python",
     "metadata": {},
     "outputs": [
      {
       "metadata": {},
       "output_type": "pyout",
       "prompt_number": 21,
       "text": [
        "\n"
       ]
      }
     ],
     "prompt_number": 21
    },
    {
     "cell_type": "code",
     "collapsed": false,
     "input": [],
     "language": "python",
     "metadata": {},
     "outputs": []
    }
   ],
   "metadata": {}
  }
 ]
}