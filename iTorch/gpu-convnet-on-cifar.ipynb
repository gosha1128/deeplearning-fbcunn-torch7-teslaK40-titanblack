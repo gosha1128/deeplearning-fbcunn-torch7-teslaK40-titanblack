{
 "metadata": {
  "language": "lua",
  "name": "",
  "signature": "sha256:41c09e86c5fc5ce3b986df1c2c0ee6935f64ebbe7f2fc92a6296ae2722bde983"
 },
 "nbformat": 3,
 "nbformat_minor": 0,
 "worksheets": [
  {
   "cells": [
    {
     "cell_type": "markdown",
     "metadata": {},
     "source": [
      "## Train a ConvNet to recognize objects using the CIFAR dataset"
     ]
    },
    {
     "cell_type": "markdown",
     "metadata": {},
     "source": [
      "In this tutorial, we train a ConvNet from scratch to do object recognition over 10 classes.\n",
      "You would learn how to use Torch's neural network package and optim package to train a network."
     ]
    },
    {
     "cell_type": "code",
     "collapsed": false,
     "input": [
      "-- require the necessary packages\n",
      "require 'torch'\n",
      "require 'cunn'\n",
      "require 'fbcunn'\n",
      "require 'nn'\n",
      "require 'optim'\n",
      "require 'image'"
     ],
     "language": "python",
     "metadata": {},
     "outputs": [],
     "prompt_number": 2
    },
    {
     "cell_type": "code",
     "collapsed": false,
     "input": [
      "-- manually define the class-names in CIFAR-10 in a lua table\n",
      "classes = {'airplane', 'automobile', 'bird', 'cat',\n",
      "           'deer', 'dog', 'frog', 'horse', 'ship', 'truck'}"
     ],
     "language": "python",
     "metadata": {},
     "outputs": [],
     "prompt_number": 3
    },
    {
     "cell_type": "code",
     "collapsed": false,
     "input": [
      "-- define model to train\n",
      "model = nn.Sequential()\n",
      "-- stage 1 : mean+std normalization -> filter bank -> squashing -> max pooling\n",
      "model:add(nn.SpatialConvolutionMM(3,32,5,5))\n",
      "model:add(nn.ReLU())\n",
      "model:add(nn.SpatialMaxPooling(2, 2, 2, 2))\n",
      "-- stage 2 : filter bank -> squashing -> max pooling\n",
      "model:add(nn.SpatialConvolutionMM(32,32,5,5))\n",
      "model:add(nn.ReLU())\n",
      "model:add(nn.SpatialMaxPooling(2, 2, 2, 2))\n",
      "-- stage 3 : standard 2-layer neural network\n",
      "model:add(nn.View(32*5*5))\n",
      "model:add(nn.Linear(32*5*5, 128))\n",
      "model:add(nn.ReLU())\n",
      "model:add(nn.Linear(128,#classes))\n",
      "model:add(nn.LogSoftMax())\n",
      "\n",
      "model = model:cuda()"
     ],
     "language": "python",
     "metadata": {},
     "outputs": [],
     "prompt_number": 4
    },
    {
     "cell_type": "code",
     "collapsed": false,
     "input": [
      "print(model:__tostring())"
     ],
     "language": "python",
     "metadata": {},
     "outputs": [
      {
       "metadata": {},
       "output_type": "pyout",
       "prompt_number": 5,
       "text": [
        "nn.Sequential {\n",
        "  [input -> (1) -> (2) -> (3) -> (4) -> (5) -> (6) -> (7) -> (8) -> (9) -> (10) -> (11) -> output]\n",
        "  (1): nn.SpatialConvolutionMM\n",
        "  (2): nn.ReLU\n",
        "  (3): nn.SpatialMaxPooling\n",
        "  (4): nn.SpatialConvolutionMM\n",
        "  (5): nn.ReLU\n",
        "  (6): nn.SpatialMaxPooling\n",
        "  (7): nn.View\n",
        "  (8): nn.Linear\n",
        "  (9): nn.ReLU\n",
        "  (10): nn.Linear\n",
        "  (11): nn.LogSoftMax\n",
        "}\t\n"
       ]
      }
     ],
     "prompt_number": 5
    },
    {
     "cell_type": "code",
     "collapsed": false,
     "input": [
      "-- retrieve parameters and gradients. this helps us to use the optim package\n",
      "parameters,gradParameters = model:getParameters()"
     ],
     "language": "python",
     "metadata": {},
     "outputs": [],
     "prompt_number": 6
    },
    {
     "cell_type": "code",
     "collapsed": false,
     "input": [
      "-- loss function: negative log-likelihood\n",
      "criterion = nn.ClassNLLCriterion()\n",
      "\n",
      "criterion = criterion:cuda()\n",
      "print(criterion)"
     ],
     "language": "python",
     "metadata": {},
     "outputs": [
      {
       "metadata": {},
       "output_type": "pyout",
       "prompt_number": 7,
       "text": [
        "nn.ClassNLLCriterion\n",
        "{\n",
        "  sizeAverage : true\n",
        "  outputTensor : CudaTensor - size: 1\n",
        "  gradInput : CudaTensor - empty\n",
        "  output : 0\n",
        "}\n"
       ]
      }
     ],
     "prompt_number": 7
    },
    {
     "cell_type": "code",
     "collapsed": false,
     "input": [
      "-- get/create dataset\n",
      "--\n",
      "batchSize = 1 -- sets the mini-Batch size\n",
      "\n",
      "if fullDataset then\n",
      "   trsize = 50000\n",
      "   tesize = 10000\n",
      "else\n",
      "   trsize = 2000\n",
      "   tesize = 1000\n",
      "end\n",
      "\n",
      "-- load dataset\n",
      "trainData = {\n",
      "   data = torch.Tensor(50000, 3072),\n",
      "   labels = torch.Tensor(50000),\n",
      "   size = function() return trsize end\n",
      "}\n",
      "for i = 0,4 do\n",
      "   subset = torch.load('/home/gwilliams/DATA/cifar-10-batches-t7/data_batch_' .. (i+1) .. '.t7', 'ascii')\n",
      "   trainData.data[{ {i*10000+1, (i+1)*10000} }] = subset.data:t()\n",
      "   trainData.labels[{ {i*10000+1, (i+1)*10000} }] = subset.labels\n",
      "end\n",
      "trainData.labels = trainData.labels + 1\n",
      "\n",
      "subset = torch.load('/home/gwilliams/DATA/cifar-10-batches-t7/test_batch.t7', 'ascii')\n",
      "testData = {\n",
      "   data = subset.data:t():double(),\n",
      "   labels = subset.labels[1]:double(),\n",
      "   size = function() return tesize end\n",
      "}\n",
      "testData.labels = testData.labels + 1\n",
      "\n",
      "-- resize dataset (if not using the full dataset)\n",
      "trainData.data = trainData.data[{ {1,trsize} }]\n",
      "trainData.labels = trainData.labels[{ {1,trsize} }]\n",
      "\n",
      "testData.data = testData.data[{ {1,tesize} }]\n",
      "testData.labels = testData.labels[{ {1,tesize} }]\n",
      "\n",
      "-- reshape data\n",
      "trainData.data = trainData.data:reshape(trsize,3,32,32)\n",
      "testData.data = testData.data:reshape(tesize,3,32,32)\n"
     ],
     "language": "python",
     "metadata": {},
     "outputs": [],
     "prompt_number": 10
    },
    {
     "cell_type": "code",
     "collapsed": false,
     "input": [
      "-- preprocess/normalize train/test sets\n",
      "-- preprocess trainSet\n",
      "normalization = nn.SpatialContrastiveNormalization(1, image.gaussian1D(7))\n",
      "for i = 1,trainData:size() do\n",
      "   -- rgb -> yuv\n",
      "   local rgb = trainData.data[i]\n",
      "   local yuv = image.rgb2yuv(rgb)\n",
      "   -- normalize y locally:\n",
      "   yuv[1] = normalization(yuv[{{1}}])\n",
      "   trainData.data[i] = yuv\n",
      "end\n",
      "-- normalize u globally:\n",
      "mean_u = trainData.data[{ {},2,{},{} }]:mean()\n",
      "std_u = trainData.data[{ {},2,{},{} }]:std()\n",
      "trainData.data[{ {},2,{},{} }]:add(-mean_u)\n",
      "trainData.data[{ {},2,{},{} }]:div(-std_u)\n",
      "-- normalize v globally:\n",
      "mean_v = trainData.data[{ {},3,{},{} }]:mean()\n",
      "std_v = trainData.data[{ {},3,{},{} }]:std()\n",
      "trainData.data[{ {},3,{},{} }]:add(-mean_v)\n",
      "trainData.data[{ {},3,{},{} }]:div(-std_v)\n",
      "\n",
      "-- preprocess testSet\n",
      "for i = 1,testData:size() do\n",
      "   -- rgb -> yuv\n",
      "   local rgb = testData.data[i]\n",
      "   local yuv = image.rgb2yuv(rgb)\n",
      "   -- normalize y locally:\n",
      "   yuv[{1}] = normalization(yuv[{{1}}])\n",
      "   testData.data[i] = yuv\n",
      "end\n",
      "-- normalize u globally:\n",
      "testData.data[{ {},2,{},{} }]:add(-mean_u)\n",
      "testData.data[{ {},2,{},{} }]:div(-std_u)\n",
      "-- normalize v globally:\n",
      "testData.data[{ {},3,{},{} }]:add(-mean_v)\n",
      "testData.data[{ {},3,{},{} }]:div(-std_v)\n"
     ],
     "language": "python",
     "metadata": {},
     "outputs": [],
     "prompt_number": 10
    },
    {
     "cell_type": "code",
     "collapsed": false,
     "input": [
      "-- this matrix records the current confusion across classes\n",
      "confusion = optim.ConfusionMatrix(classes)"
     ],
     "language": "python",
     "metadata": {},
     "outputs": [],
     "prompt_number": 11
    },
    {
     "cell_type": "code",
     "collapsed": false,
     "input": [
      "-- define training and testing functions"
     ],
     "language": "python",
     "metadata": {},
     "outputs": [],
     "prompt_number": 12
    },
    {
     "cell_type": "code",
     "collapsed": false,
     "input": [
      "-- training function\n",
      "function train(dataset)\n",
      "   -- epoch tracker\n",
      "   epoch = epoch or 10\n",
      "\n",
      "   -- do one epoch\n",
      "   print('<trainer> on training set:')\n",
      "   print(\"<trainer> online epoch # \" .. epoch .. ' [batchSize = ' .. batchSize .. ']')\n",
      "   for t = 1,dataset:size(),batchSize do\n",
      "\n",
      "      -- create mini batch\n",
      "      local inputs = {}\n",
      "      local targets = {}\n",
      "      for i = t,math.min(t+batchSize-1,dataset:size()) do\n",
      "         -- load new sample\n",
      "         local input = dataset.data[i]\n",
      "         input = input:cuda() -- george\n",
      "         local target = dataset.labels[i]\n",
      "         table.insert(inputs, input)\n",
      "         table.insert(targets, target)\n",
      "      end\n",
      "\n",
      "      -- create closure to evaluate f(X) and df/dX\n",
      "      local feval = function(x)\n",
      "                       -- get new parameters\n",
      "                       if x ~= parameters then\n",
      "                          parameters:copy(x)\n",
      "                       end\n",
      "\n",
      "                       -- reset gradients\n",
      "                       gradParameters:zero()\n",
      "\n",
      "                       -- f is the average of all criterions\n",
      "                       local f = 0\n",
      "\n",
      "                       -- evaluate function for complete mini batch\n",
      "                       for i = 1,#inputs do\n",
      "                          -- estimate f\n",
      "                          local output = model:forward(inputs[i])\n",
      "                          output = output:cuda() --george\n",
      "                          local err = criterion:forward(output, targets[i])\n",
      "                          f = f + err\n",
      "\n",
      "                          -- estimate df/dW\n",
      "                          local df_do = criterion:backward(output, targets[i])\n",
      "                          model:backward(inputs[i], df_do)\n",
      "\n",
      "                          -- update confusion\n",
      "                          confusion:add(output, targets[i])                        \n",
      "                       end\n",
      "\n",
      "                       -- normalize gradients and f(X)\n",
      "                       gradParameters:div(#inputs)\n",
      "                       f = f/#inputs\n",
      "\n",
      "                       -- return f and df/dX\n",
      "                       return f,gradParameters\n",
      "                    end\n",
      "\n",
      "\n",
      "      config = config or {learningRate = 1e-3,\n",
      "              weightDecay = 0,\n",
      "                momentum = 0,\n",
      "              learningRateDecay = 5e-7}\n",
      "      optim.sgd(feval, parameters, config)\n",
      "   end\n",
      "\n",
      "   -- print confusion matrix\n",
      "   print(confusion)\n",
      "   confusion:zero()\n",
      "\n",
      "   -- next epoch\n",
      "   epoch = epoch + 1\n",
      "end\n"
     ],
     "language": "python",
     "metadata": {},
     "outputs": [],
     "prompt_number": 13
    },
    {
     "cell_type": "code",
     "collapsed": false,
     "input": [
      "-- test function\n",
      "function test(dataset)\n",
      "\n",
      "   -- test over given dataset\n",
      "   print('<trainer> on testing Set:')\n",
      "   for t = 1,dataset:size() do\n",
      "      -- get new sample\n",
      "      local input = dataset.data[t]\n",
      "      input = input:cuda() --george\n",
      "      local target = dataset.labels[t]\n",
      "\n",
      "      -- test sample\n",
      "      local pred = model:forward(input)\n",
      "      confusion:add(pred, target)\n",
      "   end\n",
      "\n",
      "   -- print confusion matrix\n",
      "   print(confusion)\n",
      "   confusion:zero()\n",
      "\n",
      "end\n"
     ],
     "language": "python",
     "metadata": {},
     "outputs": [],
     "prompt_number": 14
    },
    {
     "cell_type": "code",
     "collapsed": false,
     "input": [
      "train(trainData)"
     ],
     "language": "python",
     "metadata": {},
     "outputs": [
      {
       "metadata": {},
       "output_type": "pyout",
       "prompt_number": 15,
       "text": [
        "<trainer> on training set:\t\n",
        "<trainer> online epoch # 10 [batchSize = 1]\t\n"
       ]
      },
      {
       "metadata": {},
       "output_type": "pyout",
       "prompt_number": 15,
       "text": [
        "ConfusionMatrix:\n",
        "[[      19      35       3       1      17       8      57      22      10      30]   9.406% \t[class: airplane]\n",
        " [      13      57       5       7       7      10      31      11       9      41]   29.843% \t[class: automobile]\n",
        " [      14      40      13       2      12      15      47      24       6      30]   6.404% \t[class: bird]\n",
        " [       5      42       8       6      15      17      42      24       5      31]   3.077% \t[class: cat]\n",
        " [      15      25       6       3      16      26      53      24       7      39]   7.477% \t[class: deer]\n",
        " [       6      40       5       3      10      21      32      18       7      41]   11.475% \t[class: dog]\n",
        " [       8      50       6       6      13      26      51      17       5      25]   24.638% \t[class: frog]\n",
        " [       9      38       6       5      20      12      31      30       9      39]   15.075% \t[class: horse]\n",
        " [      15      41       3       2       6       9      53      17       8      49]   3.941% \t[class: ship]\n",
        " [       9      58       5       1       5      10      26      22      10      57]]  28.079% \t[class: truck]\n",
        " + average row correct: 13.941454347223% \n",
        " + average rowUcol correct (VOC measure): 6.6617683321238% \n",
        " + global correct: 13.9%\n",
        "{\n",
        "  averageUnionValid : 0.066617683321238\n"
       ]
      },
      {
       "metadata": {},
       "output_type": "pyout",
       "prompt_number": 15,
       "text": [
        "  _targ_idx : LongTensor - empty\n",
        "  valids : FloatTensor - size: 10\n",
        "  classes : \n",
        "    {\n",
        "      1 : airplane\n",
        "      2 : automobile\n",
        "      3 : bird\n",
        "      4 : cat\n",
        "      5 : deer\n",
        "      6 : dog\n",
        "      7 : frog\n",
        "      8 : horse\n",
        "      9 : ship\n",
        "      10 : truck\n",
        "    }\n",
        "  _target : FloatTensor - empty\n",
        "  mat : FloatTensor - size: 10x10\n",
        "  _pred_idx : LongTensor - size: 1\n",
        "  _max : FloatTensor - size: 1\n",
        "  unionvalids : FloatTensor - size: 10\n",
        "  nclasses : 10\n",
        "  totalValid : 0.139\n",
        "  _prediction : FloatTensor - size: 10\n",
        "  averageValid : 0.13941454347223\n",
        "}\n",
        "\n"
       ]
      }
     ],
     "prompt_number": 15
    },
    {
     "cell_type": "code",
     "collapsed": false,
     "input": [
      "test(testData)"
     ],
     "language": "python",
     "metadata": {},
     "outputs": [
      {
       "metadata": {},
       "output_type": "pyout",
       "prompt_number": 16,
       "text": [
        "<trainer> on testing Set:\t\n"
       ]
      },
      {
       "metadata": {},
       "output_type": "pyout",
       "prompt_number": 16,
       "text": [
        "ConfusionMatrix:\n",
        "[[      31       3       2       0       0       2       1       2      41      21]   30.097% \t[class: airplane]\n",
        " [       6       2       0       1       0       2       0       1      43      34]   2.247% \t[class: automobile]\n",
        " [      23       1       0       0       3      11       0       3      26      33]   0.000% \t[class: bird]\n",
        " [       8       3       2       3       2      21       2       4      27      31]   2.913% \t[class: cat]\n",
        " [      21       0       1       0       1       9       1       3      35      19]   1.111% \t[class: deer]\n",
        " [       9       5       2       3       1      11       0       2      25      28]   12.791% \t[class: dog]\n",
        " [      18       4       0       0       0       6       1       1      49      33]   0.893% \t[class: frog]\n",
        " [      23       3       0       0       3       9       0       2      33      29]   1.961% \t[class: horse]\n",
        " [      18       1       0       1       0       0       0       1      58      27]   54.717% \t[class: ship]\n",
        " [      12       3       0       0       0       1       0       0      45      48]]  44.037% \t[class: truck]\n",
        " + average row correct: 15.076602995396% \n",
        " + average rowUcol correct (VOC measure): 5.5137584172189% \n",
        " + global correct: 15.7%\n",
        "{\n",
        "  averageUnionValid : 0.055137584172189\n",
        "  _targ_idx : LongTensor - empty\n",
        "  valids : FloatTensor - size: 10\n",
        "  classes : \n",
        "    {\n",
        "      1 : airplane\n",
        "      2 : automobile\n",
        "      3 : bird\n",
        "      4 : cat\n",
        "      5 : deer\n",
        "      6 : dog\n",
        "      7 : frog\n",
        "      8 : horse\n",
        "      9 : ship\n",
        "      10 : truck\n",
        "    }\n",
        "  _target : FloatTensor - empty\n",
        "  mat : FloatTensor - size: 10x10\n",
        "  _pred_idx : LongTensor - size: 1\n",
        "  _max : FloatTensor - size: 1\n",
        "  unionvalids : FloatTensor - size: 10\n",
        "  nclasses : 10\n",
        "  totalValid : 0.157\n",
        "  _prediction : FloatTensor - size: 10\n",
        "  averageValid : 0.15076602995396\n",
        "}\n",
        "\n"
       ]
      }
     ],
     "prompt_number": 16
    },
    {
     "cell_type": "code",
     "collapsed": false,
     "input": [
      "print 'hello'"
     ],
     "language": "python",
     "metadata": {},
     "outputs": []
    },
    {
     "cell_type": "code",
     "collapsed": false,
     "input": [],
     "language": "python",
     "metadata": {},
     "outputs": [
      {
       "metadata": {},
       "output_type": "pyout",
       "prompt_number": 21,
       "text": [
        "\n"
       ]
      }
     ],
     "prompt_number": 21
    },
    {
     "cell_type": "code",
     "collapsed": false,
     "input": [],
     "language": "python",
     "metadata": {},
     "outputs": []
    }
   ],
   "metadata": {}
  }
 ]
}